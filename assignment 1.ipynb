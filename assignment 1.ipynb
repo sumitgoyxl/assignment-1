{
  "nbformat": 4,
  "nbformat_minor": 0,
  "metadata": {
    "colab": {
      "provenance": [],
      "authorship_tag": "ABX9TyPgAZpOaUGfb5+jkHIcvDia",
      "include_colab_link": true
    },
    "kernelspec": {
      "name": "python3",
      "display_name": "Python 3"
    },
    "language_info": {
      "name": "python"
    }
  },
  "cells": [
    {
      "cell_type": "markdown",
      "metadata": {
        "id": "view-in-github",
        "colab_type": "text"
      },
      "source": [
        "<a href=\"https://colab.research.google.com/github/sumitgoyxl/assignment-1/blob/main/assignment%201.ipynb\" target=\"_parent\"><img src=\"https://colab.research.google.com/assets/colab-badge.svg\" alt=\"Open In Colab\"/></a>"
      ]
    },
    {
      "cell_type": "markdown",
      "source": [
        "# Q1. L is a list defined as L= [11, 12, 13, 14]"
      ],
      "metadata": {
        "id": "VgRIvsvVXXDf"
      }
    },
    {
      "cell_type": "code",
      "source": [
        "L = [11, 12, 13, 14]\n",
        "print(\"original list:\", L)\n",
        "\n",
        "# (i) Adding 50 and 60 to the list\n",
        "\n",
        "L.append(50)\n",
        "L.append(60)\n",
        "\n",
        "print(\"\\n (i) Updated List:\", L)\n"
      ],
      "metadata": {
        "colab": {
          "base_uri": "https://localhost:8080/"
        },
        "id": "xD4JcKZJXq_o",
        "outputId": "03b2c4a3-4fdd-47a9-c84e-76bf584ecd1e"
      },
      "execution_count": 23,
      "outputs": [
        {
          "output_type": "stream",
          "name": "stdout",
          "text": [
            "original list: [11, 12, 13, 14]\n",
            "\n",
            " (i) Updated List: [11, 12, 13, 14, 50, 60]\n"
          ]
        }
      ]
    },
    {
      "cell_type": "code",
      "source": [
        "# (ii) Remove 11 and 13 from L\n",
        "\n",
        "L.remove(11)\n",
        "L.remove(13)\n",
        "print(\"(ii) After removing 11 and 13:\", L)"
      ],
      "metadata": {
        "colab": {
          "base_uri": "https://localhost:8080/"
        },
        "id": "U7YT4iFPZ-ly",
        "outputId": "e8976783-88a7-4151-a7af-015c3ef8360f"
      },
      "execution_count": 22,
      "outputs": [
        {
          "output_type": "stream",
          "name": "stdout",
          "text": [
            "(ii)After removing 11 and 13: [12, 14, 50, 60]\n"
          ]
        }
      ]
    },
    {
      "cell_type": "code",
      "source": [
        "# (iii) Sort L in ascending order\n",
        "\n",
        "L.sort()\n",
        "print(\"(iii) Sorted in ascending order:\", L)"
      ],
      "metadata": {
        "colab": {
          "base_uri": "https://localhost:8080/"
        },
        "id": "omuoykQBbQ2I",
        "outputId": "3775b74e-18b6-46a9-a19a-e2b69495281a"
      },
      "execution_count": 8,
      "outputs": [
        {
          "output_type": "stream",
          "name": "stdout",
          "text": [
            "(iii) Sorted in ascending order: [12, 14, 50, 60]\n"
          ]
        }
      ]
    },
    {
      "cell_type": "code",
      "source": [
        "# (iv) Sort L in descending order\n",
        "\n",
        "L.sort(reverse=True)\n",
        "print(\"(iv) Sorted in descending order:\", L)"
      ],
      "metadata": {
        "colab": {
          "base_uri": "https://localhost:8080/"
        },
        "id": "eXyJqqmWb_k1",
        "outputId": "fdb15a02-76f5-49c7-b59c-335c696db3fa"
      },
      "execution_count": 9,
      "outputs": [
        {
          "output_type": "stream",
          "name": "stdout",
          "text": [
            "(iv) Sorted in descending order: [60, 50, 14, 12]\n"
          ]
        }
      ]
    },
    {
      "cell_type": "code",
      "source": [
        "# (v) Search for 13 in L\n",
        "\n",
        "if 13 in L:\n",
        "    print(\"(v) 13 is present in the list.\")\n",
        "else:\n",
        "    print(\"(v) 13 is not present in the list.\")"
      ],
      "metadata": {
        "colab": {
          "base_uri": "https://localhost:8080/"
        },
        "id": "XWqcuk1JcAbe",
        "outputId": "1f71725a-65c5-41c8-f5ea-ea08dc42c496"
      },
      "execution_count": 10,
      "outputs": [
        {
          "output_type": "stream",
          "name": "stdout",
          "text": [
            "(v) 13 is not present in the list.\n"
          ]
        }
      ]
    },
    {
      "cell_type": "code",
      "source": [
        "# (vi) Count the number of elements in L\n",
        "\n",
        "print(\"(vi) Number of elements:\", len(L))"
      ],
      "metadata": {
        "colab": {
          "base_uri": "https://localhost:8080/"
        },
        "id": "FmkU6yYjcA2U",
        "outputId": "7e53e54e-3168-44f6-be58-c248b2ab28ac"
      },
      "execution_count": 11,
      "outputs": [
        {
          "output_type": "stream",
          "name": "stdout",
          "text": [
            "(vi) Number of elements: 4\n"
          ]
        }
      ]
    },
    {
      "cell_type": "code",
      "source": [
        "# (vii) Sum all the elements in L\n",
        "\n",
        "print(\"(vii) Sum of all elements:\", sum(L))"
      ],
      "metadata": {
        "colab": {
          "base_uri": "https://localhost:8080/"
        },
        "id": "7F3Mozj0cp_t",
        "outputId": "70141c93-ad66-4059-8df7-9d6bd2ded7b7"
      },
      "execution_count": 12,
      "outputs": [
        {
          "output_type": "stream",
          "name": "stdout",
          "text": [
            "(vii) Sum of all elements: 136\n"
          ]
        }
      ]
    },
    {
      "cell_type": "code",
      "source": [
        "# (viii) Sum all ODD numbers in L\n",
        "\n",
        "odd_sum = sum(x for x in L if x % 2 != 0)\n",
        "print(\"(viii) Sum of odd numbers:\", odd_sum)"
      ],
      "metadata": {
        "colab": {
          "base_uri": "https://localhost:8080/"
        },
        "id": "1WfvnrJ9cqpF",
        "outputId": "96939f27-429e-4624-8994-05d362d14444"
      },
      "execution_count": 13,
      "outputs": [
        {
          "output_type": "stream",
          "name": "stdout",
          "text": [
            "(viii) Sum of odd numbers: 0\n"
          ]
        }
      ]
    },
    {
      "cell_type": "code",
      "source": [
        "# (ix) Sum all EVEN numbers in L\n",
        "\n",
        "even_sum = sum(x for x in L if x % 2 == 0)\n",
        "print(\"(ix) Sum of even numbers:\", even_sum)\n"
      ],
      "metadata": {
        "colab": {
          "base_uri": "https://localhost:8080/"
        },
        "id": "A8nP1fOUcrEa",
        "outputId": "deb7a59e-9ef5-4bc5-ec38-6102f56b6c33"
      },
      "execution_count": 14,
      "outputs": [
        {
          "output_type": "stream",
          "name": "stdout",
          "text": [
            "(ix) Sum of even numbers: 136\n"
          ]
        }
      ]
    },
    {
      "cell_type": "code",
      "source": [
        "# (x) Sum all PRIME numbers in L\n",
        "\n",
        "def is_prime(n):\n",
        "    if n < 2:\n",
        "        return False\n",
        "    for i in range(2, int(n**0.5)+1):\n",
        "        if n % i == 0:\n",
        "            return False\n",
        "    return True\n",
        "\n",
        "prime_sum = sum(x for x in L if is_prime(x))\n",
        "print(\"(x) Sum of prime numbers:\", prime_sum)\n"
      ],
      "metadata": {
        "colab": {
          "base_uri": "https://localhost:8080/"
        },
        "id": "Hicwqb9ccrgF",
        "outputId": "35d8d802-de68-4094-80b7-9329a52ec856"
      },
      "execution_count": 15,
      "outputs": [
        {
          "output_type": "stream",
          "name": "stdout",
          "text": [
            "(x) Sum of prime numbers: 0\n"
          ]
        }
      ]
    },
    {
      "cell_type": "code",
      "source": [
        "# (xi) Clear all the elements in L\n",
        "\n",
        "L.clear()\n",
        "print(\"(xi) After clearing L:\", L)"
      ],
      "metadata": {
        "colab": {
          "base_uri": "https://localhost:8080/"
        },
        "id": "yrBBpqvVehOZ",
        "outputId": "06170eb8-68bf-49ef-c1bf-1998b113a2c1"
      },
      "execution_count": 16,
      "outputs": [
        {
          "output_type": "stream",
          "name": "stdout",
          "text": [
            "(xi) After clearing L: []\n"
          ]
        }
      ]
    },
    {
      "cell_type": "code",
      "source": [
        "# (xii) Delete L\n",
        "\n",
        "del L\n",
        "print(\"(xii) List L is deleted.\")"
      ],
      "metadata": {
        "colab": {
          "base_uri": "https://localhost:8080/"
        },
        "id": "w-D3nRd-eh2Q",
        "outputId": "1e122a49-d3fb-46f4-bca2-5ad27dc94ee5"
      },
      "execution_count": 17,
      "outputs": [
        {
          "output_type": "stream",
          "name": "stdout",
          "text": [
            "(xii) List L is deleted.\n"
          ]
        }
      ]
    },
    {
      "cell_type": "markdown",
      "source": [
        "# Q2. D is a dictionary defined as D= {1:5.6, 2:7.8, 3:6.6, 4:8.7, 5:7.7}."
      ],
      "metadata": {
        "id": "KwiBuvL6e_TE"
      }
    },
    {
      "cell_type": "code",
      "source": [
        "D = {1: 5.6, 2: 7.8, 3: 6.6, 4: 8.7, 5: 7.7}\n",
        "print(\"Original Dictionary:\", D)\n",
        "\n",
        "# (i) Add new entry: key=8, value=8.8\n",
        "D[8] = 8.8\n",
        "print(\"\\n(i) After adding key=8, value=8.8:\", D)\n"
      ],
      "metadata": {
        "colab": {
          "base_uri": "https://localhost:8080/"
        },
        "id": "m2hKPxqBfMQ-",
        "outputId": "07288d2d-901a-47aa-e074-eb2f7767c26c"
      },
      "execution_count": 19,
      "outputs": [
        {
          "output_type": "stream",
          "name": "stdout",
          "text": [
            "Original Dictionary: {1: 5.6, 2: 7.8, 3: 6.6, 4: 8.7, 5: 7.7}\n",
            "\n",
            "(i) After adding key=8, value=8.8: {1: 5.6, 2: 7.8, 3: 6.6, 4: 8.7, 5: 7.7, 8: 8.8}\n"
          ]
        }
      ]
    },
    {
      "cell_type": "code",
      "source": [
        "# (ii) Remove key=2\n",
        "\n",
        "if 2 in D:\n",
        "    del D[2]\n",
        "print(\"(ii) After removing key=2:\", D)"
      ],
      "metadata": {
        "colab": {
          "base_uri": "https://localhost:8080/"
        },
        "id": "iwpd1OrffMvr",
        "outputId": "b4a8ed81-53f0-4bf5-a3c0-8b2358541e8a"
      },
      "execution_count": 24,
      "outputs": [
        {
          "output_type": "stream",
          "name": "stdout",
          "text": [
            "(ii) After removing key=2: {1: 5.6, 3: 6.6, 4: 8.7, 5: 7.7, 8: 8.8}\n"
          ]
        }
      ]
    },
    {
      "cell_type": "code",
      "source": [
        "# (iii) Check whether key=6 is present in D\n",
        "\n",
        "if 6 in D:\n",
        "    print(\"(iii) Key 6 is present in the dictionary.\")\n",
        "else:\n",
        "    print(\"(iii) Key 6 is not present in the dictionary.\")"
      ],
      "metadata": {
        "colab": {
          "base_uri": "https://localhost:8080/"
        },
        "id": "8UoHSuVqfNEH",
        "outputId": "1c3c610d-2a3b-4313-bd2b-0630d591653c"
      },
      "execution_count": 25,
      "outputs": [
        {
          "output_type": "stream",
          "name": "stdout",
          "text": [
            "(iii) Key 6 is not present in the dictionary.\n"
          ]
        }
      ]
    },
    {
      "cell_type": "code",
      "source": [
        "# (iv) Count the number of elements in D\n",
        "\n",
        "print(\"(iv) Number of elements in D:\", len(D))\n"
      ],
      "metadata": {
        "colab": {
          "base_uri": "https://localhost:8080/"
        },
        "id": "PhjMdZ0FfNcw",
        "outputId": "d2a720b4-47dc-4cb4-c4fc-f40f7ab465cb"
      },
      "execution_count": 26,
      "outputs": [
        {
          "output_type": "stream",
          "name": "stdout",
          "text": [
            "(iv) Number of elements in D: 5\n"
          ]
        }
      ]
    },
    {
      "cell_type": "code",
      "source": [
        "# (v) Add all the values present in D\n",
        "\n",
        "print(\"(v) Sum of all values in D:\", sum(D.values()))"
      ],
      "metadata": {
        "colab": {
          "base_uri": "https://localhost:8080/"
        },
        "id": "nC7iOh0efNvX",
        "outputId": "7cd7aeb3-2527-4419-daa2-c975e0d361f4"
      },
      "execution_count": 27,
      "outputs": [
        {
          "output_type": "stream",
          "name": "stdout",
          "text": [
            "(v) Sum of all values in D: 37.4\n"
          ]
        }
      ]
    },
    {
      "cell_type": "code",
      "source": [
        "# (vi) Update value of key=3 to 7.1\n",
        "\n",
        "D[3] = 7.1\n",
        "print(\"(vi) After updating key=3 to 7.1:\", D)"
      ],
      "metadata": {
        "colab": {
          "base_uri": "https://localhost:8080/"
        },
        "id": "NM8fs4ZIfOVY",
        "outputId": "99311f52-de8b-4856-f1fa-a1871b59d08a"
      },
      "execution_count": 28,
      "outputs": [
        {
          "output_type": "stream",
          "name": "stdout",
          "text": [
            "(vi) After updating key=3 to 7.1: {1: 5.6, 3: 7.1, 4: 8.7, 5: 7.7, 8: 8.8}\n"
          ]
        }
      ]
    },
    {
      "cell_type": "code",
      "source": [
        "# (vii) Clear the dictionary\n",
        "\n",
        "D.clear()\n",
        "print(\"(vii) After clearing the dictionary:\", D)"
      ],
      "metadata": {
        "colab": {
          "base_uri": "https://localhost:8080/"
        },
        "id": "KFMUggstfPAO",
        "outputId": "66aca609-48d4-4624-8784-64e79eb0de6c"
      },
      "execution_count": 29,
      "outputs": [
        {
          "output_type": "stream",
          "name": "stdout",
          "text": [
            "(vii) After clearing the dictionary: {}\n"
          ]
        }
      ]
    },
    {
      "cell_type": "markdown",
      "source": [
        "# Q3. S1 is a set defined as S1= [10, 20, 30, 40, 50, 60].\n",
        "# S2 is a set defined as S2= [40, 50, 60, 70, 80, 90]."
      ],
      "metadata": {
        "id": "Kz6-T1v7iI5J"
      }
    },
    {
      "cell_type": "code",
      "source": [
        "# Initial sets (converted from lists)\n",
        "S1 = set([10, 20, 30, 40, 50, 60])\n",
        "S2 = set([40, 50, 60, 70, 80, 90])\n",
        "\n",
        "print(\"Original S1:\", S1)\n",
        "print(\"Original S2:\", S2)\n"
      ],
      "metadata": {
        "colab": {
          "base_uri": "https://localhost:8080/"
        },
        "id": "rmHYPicdjmYa",
        "outputId": "b14dbd8d-146d-4afc-d3b6-36eba9a85bef"
      },
      "execution_count": 30,
      "outputs": [
        {
          "output_type": "stream",
          "name": "stdout",
          "text": [
            "Original S1: {40, 10, 50, 20, 60, 30}\n",
            "Original S2: {70, 40, 80, 50, 90, 60}\n"
          ]
        }
      ]
    },
    {
      "cell_type": "code",
      "source": [
        "# (i) Add 55 and 66 in Set S1\n",
        "\n",
        "S1.add(55)\n",
        "S1.add(66)\n",
        "print(\"(i) After adding 55 and 66 to S1:\", S1)"
      ],
      "metadata": {
        "colab": {
          "base_uri": "https://localhost:8080/"
        },
        "id": "5XSptXxgkoIz",
        "outputId": "84cf29ed-e551-4b54-d93b-a56a099eed7a"
      },
      "execution_count": 31,
      "outputs": [
        {
          "output_type": "stream",
          "name": "stdout",
          "text": [
            "(i) After adding 55 and 66 to S1: {66, 40, 10, 50, 20, 55, 60, 30}\n"
          ]
        }
      ]
    },
    {
      "cell_type": "code",
      "source": [
        "# (ii) Remove 10 and 30 from Set S1\n",
        "\n",
        "S1.discard(10)\n",
        "S1.discard(30)\n",
        "print(\"(ii) After removing 10 and 30 from S1:\", S1)"
      ],
      "metadata": {
        "colab": {
          "base_uri": "https://localhost:8080/"
        },
        "id": "pmXE4I0Xk-5k",
        "outputId": "73cb31fb-725f-43dd-f0fe-f6c5923bc8be"
      },
      "execution_count": 32,
      "outputs": [
        {
          "output_type": "stream",
          "name": "stdout",
          "text": [
            "(ii) After removing 10 and 30 from S1: {66, 40, 50, 20, 55, 60}\n"
          ]
        }
      ]
    },
    {
      "cell_type": "code",
      "source": [
        "# (iii) Check whether 40 is present in S1\n",
        "\n",
        "if 40 in S1:\n",
        "    print(\"(iii) 40 is present in S1.\")\n",
        "else:\n",
        "    print(\"(iii) 40 is not present in S1.\")"
      ],
      "metadata": {
        "colab": {
          "base_uri": "https://localhost:8080/"
        },
        "id": "46d2AlMxlDWu",
        "outputId": "d464db42-994a-4298-fe60-e36af6178ed0"
      },
      "execution_count": 33,
      "outputs": [
        {
          "output_type": "stream",
          "name": "stdout",
          "text": [
            "(iii) 40 is present in S1.\n"
          ]
        }
      ]
    },
    {
      "cell_type": "code",
      "source": [
        "# (iv) Find the union between S1 and S2\n",
        "\n",
        "union_set = S1.union(S2)\n",
        "print(\"(iv) Union of S1 and S2:\", union_set)\n"
      ],
      "metadata": {
        "colab": {
          "base_uri": "https://localhost:8080/"
        },
        "id": "o6INLb2_lPqx",
        "outputId": "961489f0-fb7a-4f83-978c-1031aa7712be"
      },
      "execution_count": 34,
      "outputs": [
        {
          "output_type": "stream",
          "name": "stdout",
          "text": [
            "(iv) Union of S1 and S2: {66, 70, 40, 80, 50, 20, 55, 90, 60}\n"
          ]
        }
      ]
    },
    {
      "cell_type": "code",
      "source": [
        "# (v) Find the intersection between S1 and S2\n",
        "\n",
        "intersection_set = S1.intersection(S2)\n",
        "print(\"(v) Intersection of S1 and S2:\", intersection_set)"
      ],
      "metadata": {
        "colab": {
          "base_uri": "https://localhost:8080/"
        },
        "id": "NqkkaEMAlQn3",
        "outputId": "3a25849e-7911-4086-f429-80c3979064e7"
      },
      "execution_count": 35,
      "outputs": [
        {
          "output_type": "stream",
          "name": "stdout",
          "text": [
            "(v) Intersection of S1 and S2: {40, 50, 60}\n"
          ]
        }
      ]
    },
    {
      "cell_type": "code",
      "source": [
        "# (vi) Find the difference S1 - S2\n",
        "\n",
        "difference_set = S1.difference(S2)\n",
        "print(\"(vi) Difference S1 - S2:\", difference_set)"
      ],
      "metadata": {
        "colab": {
          "base_uri": "https://localhost:8080/"
        },
        "id": "fJIg7uLplQXS",
        "outputId": "d848f1b2-090b-4198-94ad-e81c429bba5c"
      },
      "execution_count": 37,
      "outputs": [
        {
          "output_type": "stream",
          "name": "stdout",
          "text": [
            "(vi) Difference S1 - S2: {66, 20, 55}\n"
          ]
        }
      ]
    },
    {
      "cell_type": "markdown",
      "source": [
        "# Q4. Write the following program."
      ],
      "metadata": {
        "id": "EKrb9dxRlq5K"
      }
    },
    {
      "cell_type": "code",
      "source": [
        "import random\n",
        "import string\n",
        "\n",
        "# (i) WAP to print 100 random strings whose length is between 6 and 8\n",
        "print(\"(i) 10 Random Strings (length 6 to 8):\")\n",
        "for _ in range(10):\n",
        "    length = random.randint(6, 8)\n",
        "    rand_str = ''.join(random.choices(string.ascii_letters + string.digits, k=length))\n",
        "    print(rand_str)\n",
        "print(\"\\n\")\n"
      ],
      "metadata": {
        "colab": {
          "base_uri": "https://localhost:8080/"
        },
        "id": "wdOwi42clQEe",
        "outputId": "41400b8a-1ea4-46d3-880a-631458a119f0"
      },
      "execution_count": 39,
      "outputs": [
        {
          "output_type": "stream",
          "name": "stdout",
          "text": [
            "(i) 10 Random Strings (length 6 to 8):\n",
            "NTqeGu\n",
            "MAwVzR0d\n",
            "XmbrOL\n",
            "IPNiqx7\n",
            "auZSag\n",
            "ftMMDe\n",
            "0O6ye0\n",
            "WQuMIN\n",
            "TnYaej9\n",
            "G88PwiT\n",
            "\n",
            "\n"
          ]
        }
      ]
    },
    {
      "cell_type": "code",
      "source": [
        "# (ii) WAP to print all prime numbers between 600 and 800\n",
        "print(\"(ii) Prime numbers between 600 and 800:\")\n",
        "def is_prime(n):\n",
        "    if n < 2:\n",
        "        return False\n",
        "    for i in range(2, int(n**0.5)+1):\n",
        "        if n % i == 0:\n",
        "            return False\n",
        "    return True\n",
        "\n",
        "for num in range(600, 801):\n",
        "    if is_prime(num):\n",
        "        print(num, end=\" \")\n",
        "print(\"\\n\\n\")"
      ],
      "metadata": {
        "colab": {
          "base_uri": "https://localhost:8080/"
        },
        "id": "82r6RU-LmM2D",
        "outputId": "47125c97-f64f-4ec9-9034-3d9f1c23a659"
      },
      "execution_count": 40,
      "outputs": [
        {
          "output_type": "stream",
          "name": "stdout",
          "text": [
            "(ii) Prime numbers between 600 and 800:\n",
            "601 607 613 617 619 631 641 643 647 653 659 661 673 677 683 691 701 709 719 727 733 739 743 751 757 761 769 773 787 797 \n",
            "\n",
            "\n"
          ]
        }
      ]
    },
    {
      "cell_type": "code",
      "source": [
        "# (iii) WAP to print all numbers between 100 and 1000 divisible by both 7 and 9\n",
        "print(\"(iii) Numbers between 100 and 1000 divisible by both 7 and 9:\")\n",
        "for num in range(100, 1001):\n",
        "    if num % 7 == 0 and num % 9 == 0:\n",
        "        print(num, end=\" \")\n",
        "print()"
      ],
      "metadata": {
        "colab": {
          "base_uri": "https://localhost:8080/"
        },
        "id": "ea4PELFImNOQ",
        "outputId": "a56ec5b9-6c66-4418-e566-47ca6d773ba9"
      },
      "execution_count": 41,
      "outputs": [
        {
          "output_type": "stream",
          "name": "stdout",
          "text": [
            "(iii) Numbers between 100 and 1000 divisible by both 7 and 9:\n",
            "126 189 252 315 378 441 504 567 630 693 756 819 882 945 \n"
          ]
        }
      ]
    },
    {
      "cell_type": "markdown",
      "source": [
        "# Q5. WAP to create two lists of 10 random numbers between 10 and 30; Find"
      ],
      "metadata": {
        "id": "6T4o7OK5mxkq"
      }
    },
    {
      "cell_type": "code",
      "source": [
        "# Generate two lists of 10 random integers between 10 and 30\n",
        "list1 = [random.randint(10, 30) for _ in range(10)]\n",
        "list2 = [random.randint(10, 30) for _ in range(10)]\n",
        "\n",
        "print(\"List 1:\", list1)\n",
        "print(\"List 2:\", list2)"
      ],
      "metadata": {
        "colab": {
          "base_uri": "https://localhost:8080/"
        },
        "id": "PG4BKR6Em5PV",
        "outputId": "ccc1cb4f-1088-4b09-8e68-5074885102a5"
      },
      "execution_count": 42,
      "outputs": [
        {
          "output_type": "stream",
          "name": "stdout",
          "text": [
            "List 1: [25, 10, 27, 17, 14, 20, 19, 12, 14, 23]\n",
            "List 2: [28, 28, 11, 10, 11, 21, 23, 25, 28, 26]\n"
          ]
        }
      ]
    },
    {
      "cell_type": "code",
      "source": [
        "# (i) Common numbers in the two lists\n",
        "\n",
        "common = list(set(list1) & set(list2))\n",
        "print(\"(i) Common numbers:\", common)"
      ],
      "metadata": {
        "colab": {
          "base_uri": "https://localhost:8080/"
        },
        "id": "ZLNW71qinOLw",
        "outputId": "8772d2cb-d5aa-4d31-8a72-729f2fd793d4"
      },
      "execution_count": 43,
      "outputs": [
        {
          "output_type": "stream",
          "name": "stdout",
          "text": [
            "(i) Common numbers: [25, 10, 23]\n"
          ]
        }
      ]
    },
    {
      "cell_type": "code",
      "source": [
        "# (ii) Unique numbers in both lists (i.e., not in the intersection)\n",
        "\n",
        "unique = list((set(list1) ^ set(list2)))\n",
        "print(\"(ii) Unique numbers:\", unique)\n"
      ],
      "metadata": {
        "colab": {
          "base_uri": "https://localhost:8080/"
        },
        "id": "vMLbRuPanN_6",
        "outputId": "13aa7e6b-b276-4631-ec8f-cb1259734037"
      },
      "execution_count": 44,
      "outputs": [
        {
          "output_type": "stream",
          "name": "stdout",
          "text": [
            "(ii) Unique numbers: [11, 12, 14, 17, 19, 20, 21, 26, 27, 28]\n"
          ]
        }
      ]
    },
    {
      "cell_type": "code",
      "source": [
        "# (iii) Minimum in both lists\n",
        "print(\"(iii) Minimum in List 1:\", min(list1))\n",
        "print(\"      Minimum in List 2:\", min(list2))"
      ],
      "metadata": {
        "colab": {
          "base_uri": "https://localhost:8080/"
        },
        "id": "L0RwyWNYnNx9",
        "outputId": "70ad8612-cd34-4276-a2ba-4d58d2303b3e"
      },
      "execution_count": 45,
      "outputs": [
        {
          "output_type": "stream",
          "name": "stdout",
          "text": [
            "(iii) Minimum in List 1: 10\n",
            "      Minimum in List 2: 10\n"
          ]
        }
      ]
    },
    {
      "cell_type": "code",
      "source": [
        "# (iv) Maximum in both lists\n",
        "print(\"(iv) Maximum in List 1:\", max(list1))\n",
        "print(\"      Maximum in List 2:\", max(list2))"
      ],
      "metadata": {
        "colab": {
          "base_uri": "https://localhost:8080/"
        },
        "id": "mFYsmeoAnNmn",
        "outputId": "7bc63fbb-824c-4092-d712-eb802130998a"
      },
      "execution_count": 46,
      "outputs": [
        {
          "output_type": "stream",
          "name": "stdout",
          "text": [
            "(iv) Maximum in List 1: 27\n",
            "      Maximum in List 2: 28\n"
          ]
        }
      ]
    },
    {
      "cell_type": "code",
      "source": [
        "# (v) Sum of both the lists\n",
        "print(\"(v) Sum of List 1:\", sum(list1))\n",
        "print(\"    Sum of List 2:\", sum(list2))\n",
        "print(\"    Total Sum:\", sum(list1) + sum(list2))"
      ],
      "metadata": {
        "colab": {
          "base_uri": "https://localhost:8080/"
        },
        "id": "dS_no0BUnNKW",
        "outputId": "266adba5-a001-41ce-ba9f-49f9e3545818"
      },
      "execution_count": 47,
      "outputs": [
        {
          "output_type": "stream",
          "name": "stdout",
          "text": [
            "(v) Sum of List 1: 181\n",
            "    Sum of List 2: 211\n",
            "    Total Sum: 392\n"
          ]
        }
      ]
    },
    {
      "cell_type": "markdown",
      "source": [
        "# Q6. WAP to create a list of 100 random numbers between 100 and 900. Count and print the:"
      ],
      "metadata": {
        "id": "YdG06VcZntEd"
      }
    },
    {
      "cell_type": "code",
      "source": [
        "import random\n",
        "\n",
        "# Generate a list of 20 random numbers between 100 and 900\n",
        "numbers = [random.randint(100, 900) for _ in range(20)]\n",
        "print(\"Generated List:\", numbers)\n"
      ],
      "metadata": {
        "colab": {
          "base_uri": "https://localhost:8080/"
        },
        "id": "VgzV-57doA8_",
        "outputId": "4978fb69-e90c-430a-ec47-39649916fac7"
      },
      "execution_count": 51,
      "outputs": [
        {
          "output_type": "stream",
          "name": "stdout",
          "text": [
            "Generated List: [192, 415, 558, 157, 195, 867, 651, 626, 750, 729, 628, 644, 659, 344, 511, 583, 768, 759, 572, 490]\n"
          ]
        }
      ]
    },
    {
      "cell_type": "code",
      "source": [
        "# (i) All odd numbers\n",
        "odd_numbers = [num for num in numbers if num % 2 != 0]\n",
        "print(\"\\n(i) Odd Numbers ({} total):\".format(len(odd_numbers)))\n",
        "print(odd_numbers)"
      ],
      "metadata": {
        "colab": {
          "base_uri": "https://localhost:8080/"
        },
        "id": "MD3gL2XeoacE",
        "outputId": "22da7c94-2515-4892-c876-8e81bf0efc92"
      },
      "execution_count": 52,
      "outputs": [
        {
          "output_type": "stream",
          "name": "stdout",
          "text": [
            "\n",
            "(i) Odd Numbers (10 total):\n",
            "[415, 157, 195, 867, 651, 729, 659, 511, 583, 759]\n"
          ]
        }
      ]
    },
    {
      "cell_type": "code",
      "source": [
        "# (ii) All even numbers\n",
        "even_numbers = [num for num in numbers if num % 2 == 0]\n",
        "print(\"\\n(ii) Even Numbers ({} total):\".format(len(even_numbers)))\n",
        "print(even_numbers)\n"
      ],
      "metadata": {
        "colab": {
          "base_uri": "https://localhost:8080/"
        },
        "id": "3J1LMvwYoaOt",
        "outputId": "352deed3-d029-48e0-d764-5e1ebe5b18db"
      },
      "execution_count": 53,
      "outputs": [
        {
          "output_type": "stream",
          "name": "stdout",
          "text": [
            "\n",
            "(ii) Even Numbers (10 total):\n",
            "[192, 558, 626, 750, 628, 644, 344, 768, 572, 490]\n"
          ]
        }
      ]
    },
    {
      "cell_type": "code",
      "source": [
        "# (iii) All prime numbers\n",
        "def is_prime(n):\n",
        "    if n < 2:\n",
        "        return False\n",
        "    for i in range(2, int(n ** 0.5) + 1):\n",
        "        if n % i == 0:\n",
        "            return False\n",
        "    return True\n",
        "prime_numbers = [num for num in numbers if is_prime(num)]\n",
        "print(\"\\n(iii) Prime Numbers ({} total):\".format(len(prime_numbers)))\n",
        "print(prime_numbers)\n"
      ],
      "metadata": {
        "colab": {
          "base_uri": "https://localhost:8080/"
        },
        "id": "pou51z2ZoaA5",
        "outputId": "87f65c6e-09ef-48f8-82aa-fe83d0c1208f"
      },
      "execution_count": 57,
      "outputs": [
        {
          "output_type": "stream",
          "name": "stdout",
          "text": [
            "\n",
            "(iii) Prime Numbers (2 total):\n",
            "[157, 659]\n"
          ]
        }
      ]
    },
    {
      "cell_type": "markdown",
      "source": [
        "# Q7. D is a dictionary defined as D={1:\"One\",2:\"Two\",3:\"Three\",4:\"Four\", 5:\"Five\"}.  \n",
        "WAP to read all the keys and values from dictionary and write to the file in the given below format.\n",
        "\n",
        "Key1, Value1\n",
        "\n",
        "Key2, Value2\n",
        "\n",
        "Key3, Value3"
      ],
      "metadata": {
        "id": "3DTkZnKwpc1X"
      }
    },
    {
      "cell_type": "code",
      "source": [
        "# Define the dictionary\n",
        "D = {1: \"One\", 2: \"Two\", 3: \"Three\", 4: \"Four\", 5: \"Five\"}\n",
        "\n",
        "# Open a file to write (create or overwrite)\n",
        "with open(\"dictionary_output.txt\", \"w\") as file:\n",
        "    for key, value in D.items():\n",
        "        file.write(f\"{key}, {value}\\n\")\n",
        "\n",
        "print(\"Dictionary keys and values written to 'dictionary_output.txt'\")\n"
      ],
      "metadata": {
        "colab": {
          "base_uri": "https://localhost:8080/"
        },
        "id": "0dZiGhtnpjih",
        "outputId": "b32ff479-0ea9-423b-e901-1128f9d2e656"
      },
      "execution_count": 58,
      "outputs": [
        {
          "output_type": "stream",
          "name": "stdout",
          "text": [
            "Dictionary keys and values written to 'dictionary_output.txt'\n"
          ]
        }
      ]
    },
    {
      "cell_type": "markdown",
      "source": [
        "# Q8. L is a list defined as L={\"One\",\"Two\",\"Three\",\"Four\",\"Five\"}.\n",
        "WAP to count the length of reach element from a list and write to the file in the given below format:\n",
        "\n",
        "One, 3\n",
        "\n",
        "Two, 3\n",
        "\n",
        "Four, 4"
      ],
      "metadata": {
        "id": "N-G4pxGGsc4m"
      }
    },
    {
      "cell_type": "code",
      "source": [
        "# Define the list\n",
        "L = {\"One\", \"Two\", \"Three\", \"Four\", \"Five\"}  # This is actually a set; changing to list if order matters\n",
        "\n",
        "# Open the file for writing\n",
        "with open(\"length_output.txt\", \"w\") as file:\n",
        "    for item in L:\n",
        "        file.write(f\"{item}, {len(item)}\\n\")\n",
        "\n",
        "print(\"Element lengths written to 'length_output.txt'\")\n"
      ],
      "metadata": {
        "colab": {
          "base_uri": "https://localhost:8080/"
        },
        "id": "Q6NZMn4Bsj_f",
        "outputId": "26313f51-de85-4ba6-aad9-e9f928d82883"
      },
      "execution_count": 59,
      "outputs": [
        {
          "output_type": "stream",
          "name": "stdout",
          "text": [
            "Element lengths written to 'length_output.txt'\n"
          ]
        }
      ]
    },
    {
      "cell_type": "markdown",
      "source": [
        "# Q9. Write to the file 100 random strings whose length between 10 and 15."
      ],
      "metadata": {
        "id": "BVv65EoRtdry"
      }
    },
    {
      "cell_type": "code",
      "source": [
        "import random\n",
        "import string\n",
        "\n",
        "# Open a file to write\n",
        "with open(\"random_strings.txt\", \"w\") as file:\n",
        "    for _ in range(100):\n",
        "        length = random.randint(10, 15)\n",
        "        rand_str = ''.join(random.choices(string.ascii_letters + string.digits, k=length))\n",
        "        file.write(rand_str + \"\\n\")\n",
        "\n",
        "print(\"100 random strings written to 'random_strings.txt'\")\n"
      ],
      "metadata": {
        "colab": {
          "base_uri": "https://localhost:8080/"
        },
        "id": "LIoXBg3Ltske",
        "outputId": "926624fc-4d00-46c8-a3fc-f62e03f8204c"
      },
      "execution_count": 60,
      "outputs": [
        {
          "output_type": "stream",
          "name": "stdout",
          "text": [
            "100 random strings written to 'random_strings.txt'\n"
          ]
        }
      ]
    },
    {
      "cell_type": "markdown",
      "source": [
        "# Q10. Write to the file all prime numbers between 600 and 800."
      ],
      "metadata": {
        "id": "c9jPqE29t-R3"
      }
    },
    {
      "cell_type": "code",
      "source": [
        "# Function to check if a number is prime\n",
        "def is_prime(n):\n",
        "    if n < 2:\n",
        "        return False\n",
        "    for i in range(2, int(n ** 0.5) + 1):\n",
        "        if n % i == 0:\n",
        "            return False\n",
        "    return True\n",
        "\n",
        "# Open file for writing\n",
        "with open(\"prime_600_800.txt\", \"w\") as file:\n",
        "    for num in range(600, 801):\n",
        "        if is_prime(num):\n",
        "            file.write(str(num) + \"\\n\")\n",
        "\n",
        "print(\"All prime numbers between 600 and 800 written to 'prime_600_800.txt'\")\n"
      ],
      "metadata": {
        "colab": {
          "base_uri": "https://localhost:8080/"
        },
        "id": "5wQGa_FCt9Xy",
        "outputId": "6ca1076a-af06-4a1c-a833-5ada6cb3546d"
      },
      "execution_count": 61,
      "outputs": [
        {
          "output_type": "stream",
          "name": "stdout",
          "text": [
            "All prime numbers between 600 and 800 written to 'prime_600_800.txt'\n"
          ]
        }
      ]
    },
    {
      "cell_type": "markdown",
      "source": [
        "# Q11. WAP to calculate the time taken by a program."
      ],
      "metadata": {
        "id": "nZIdLHe-uyOh"
      }
    },
    {
      "cell_type": "code",
      "source": [
        "import time\n",
        "\n",
        "# Start timer\n",
        "start_time = time.time()\n",
        "\n",
        "# === Sample Task ===\n",
        "# Find all prime numbers between 1 and 10000\n",
        "def is_prime(n):\n",
        "    if n < 2:\n",
        "        return False\n",
        "    for i in range(2, int(n**0.5)+1):\n",
        "        if n % i == 0:\n",
        "            return False\n",
        "    return True\n",
        "\n",
        "primes = [n for n in range(1, 10000) if is_prime(n)]\n",
        "# === End of Sample Task ===\n",
        "\n",
        "# End timer\n",
        "end_time = time.time()\n",
        "\n",
        "# Calculate time taken\n",
        "elapsed_time = end_time - start_time\n",
        "print(f\"Time taken by the program: {elapsed_time:.4f} seconds\")\n",
        "\n"
      ],
      "metadata": {
        "colab": {
          "base_uri": "https://localhost:8080/"
        },
        "id": "tXCv9OdUu08N",
        "outputId": "a42906d3-6338-4321-8412-700b88f52807"
      },
      "execution_count": 65,
      "outputs": [
        {
          "output_type": "stream",
          "name": "stdout",
          "text": [
            "Time taken by the program: 0.0109 seconds\n"
          ]
        }
      ]
    },
    {
      "cell_type": "markdown",
      "source": [
        "# Q12. WAP to sort following number of elements in a list, calculate time taken and plot the graph.   \n",
        "![image.png](data:image/png;base64,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)"
      ],
      "metadata": {
        "id": "Rvyh3m2wwdjn"
      }
    },
    {
      "cell_type": "code",
      "source": [
        "import time\n",
        "import random\n",
        "import matplotlib.pyplot as plt\n",
        "\n",
        "# Define the list sizes (in thousands)\n",
        "list_sizes = [5000, 10000, 15000, 20000, 25000]\n",
        "time_taken = []\n",
        "\n",
        "print(\"{:<25} {:<10}\".format(\"Number of elements in list\", \"Time Taken\"))\n",
        "print(\"-\" * 40)\n",
        "\n",
        "# Loop through each list size\n",
        "for size in list_sizes:\n",
        "    # Generate random list\n",
        "    rand_list = [random.randint(1, 100000) for _ in range(size)]\n",
        "\n",
        "    # Time the sorting process\n",
        "    start_time = time.time()\n",
        "    rand_list.sort()\n",
        "    end_time = time.time()\n",
        "\n",
        "    elapsed = end_time - start_time\n",
        "    time_taken.append(elapsed)\n",
        "\n",
        "    print(\"{:<25} {:.6f} sec\".format(f\"{size//1000}k\", elapsed))\n",
        "\n",
        "# Plotting the results\n",
        "plt.figure(figsize=(8, 5))\n",
        "plt.plot(list_sizes, time_taken, marker='o', linestyle='-', color='green')\n",
        "plt.title(\"Sorting Time vs Number of Elements\")\n",
        "plt.xlabel(\"Number of Elements\")\n",
        "plt.ylabel(\"Time Taken (seconds)\")\n",
        "plt.grid(True)\n",
        "plt.xticks(list_sizes)\n",
        "plt.tight_layout()\n",
        "plt.show()\n"
      ],
      "metadata": {
        "colab": {
          "base_uri": "https://localhost:8080/",
          "height": 634
        },
        "id": "G_kFTFygwVjM",
        "outputId": "b795cc8d-b817-4ee9-8887-040993f96fbb"
      },
      "execution_count": 66,
      "outputs": [
        {
          "output_type": "stream",
          "name": "stdout",
          "text": [
            "Number of elements in list Time Taken\n",
            "----------------------------------------\n",
            "5k                        0.000987 sec\n",
            "10k                       0.001832 sec\n",
            "15k                       0.002647 sec\n",
            "20k                       0.003764 sec\n",
            "25k                       0.005169 sec\n"
          ]
        },
        {
          "output_type": "display_data",
          "data": {
            "text/plain": [
              "<Figure size 800x500 with 1 Axes>"
            ],
            "image/png": "[encoded data removed]"
          },
          "metadata": {}
        }
      ]
    },
    {
      "cell_type": "markdown",
      "source": [
        "# Q13. WAP to create a dictionary of student marks in five subjects and you have to find the student having maximum and minimum average marks."
      ],
      "metadata": {
        "id": "XbYDu7nXxSCa"
      }
    },
    {
      "cell_type": "code",
      "source": [
        "# Dictionary with student names and their marks in 5 subjects\n",
        "student_marks = {\n",
        "    \"Alice\": [85, 78, 92, 88, 76],\n",
        "    \"Bob\": [70, 65, 72, 60, 68],\n",
        "    \"Charlie\": [90, 88, 85, 95, 92],\n",
        "    \"David\": [60, 58, 55, 62, 59],\n",
        "    \"Eva\": [75, 80, 79, 82, 78]\n",
        "}\n",
        "\n",
        "# Calculate average marks\n",
        "average_marks = {}\n",
        "for student, marks in student_marks.items():\n",
        "    avg = sum(marks) / len(marks)\n",
        "    average_marks[student] = avg\n",
        "\n",
        "# Find max and min average\n",
        "max_student = max(average_marks, key=average_marks.get)\n",
        "min_student = min(average_marks, key=average_marks.get)\n",
        "\n",
        "# Output\n",
        "print(f\"Student with Maximum Average Marks: {max_student} ({average_marks[max_student]:.2f})\")\n",
        "print(f\"Student with Minimum Average Marks: {min_student} ({average_marks[min_student]:.2f})\")\n"
      ],
      "metadata": {
        "colab": {
          "base_uri": "https://localhost:8080/"
        },
        "id": "UXk0vcwhxdWv",
        "outputId": "824c503e-4799-42e9-8e95-08f33cb92c45"
      },
      "execution_count": 67,
      "outputs": [
        {
          "output_type": "stream",
          "name": "stdout",
          "text": [
            "Student with Maximum Average Marks: Charlie (90.00)\n",
            "Student with Minimum Average Marks: David (58.80)\n"
          ]
        }
      ]
    }
  ]
}