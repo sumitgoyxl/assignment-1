{
  "nbformat": 4,
  "nbformat_minor": 0,
  "metadata": {
    "colab": {
      "provenance": [],
      "authorship_tag": "ABX9TyOKdj3/PQzOeyNiLi9Q+HZP",
      "include_colab_link": true
    },
    "kernelspec": {
      "name": "python3",
      "display_name": "Python 3"
    },
    "language_info": {
      "name": "python"
    }
  },
  "cells": [
    {
      "cell_type": "markdown",
      "metadata": {
        "id": "view-in-github",
        "colab_type": "text"
      },
      "source": [
        "<a href=\"https://colab.research.google.com/github/sumitgoyxl/assignment-1/blob/main/assignment%202.ipynb\" target=\"_parent\"><img src=\"https://colab.research.google.com/assets/colab-badge.svg\" alt=\"Open In Colab\"/></a>"
      ]
    },
    {
      "cell_type": "markdown",
      "source": [
        "# 1. Write a python program to sort the list of heterogeneous data.  \n",
        "e.g.  \n",
        "###L = [\"Ram\", 1, \"Shyam\", 2, \"Aman\", 3]\n",
        "\n",
        "print(L)\n",
        "\n",
        "L.sort()\n",
        "\n",
        "print(L)\n",
        "\n",
        "Above code gives error. Correct it."
      ],
      "metadata": {
        "id": "PD3L0kAS2hCC"
      }
    },
    {
      "cell_type": "markdown",
      "source": [
        "# Corrected Program\n",
        "\n",
        "###Here are two common ways to sort a heterogeneous list:\n",
        "\n"
      ],
      "metadata": {
        "id": "_ZrTLAgx3F4v"
      }
    },
    {
      "cell_type": "markdown",
      "source": [
        "# 1: Separate and Sort by Type"
      ],
      "metadata": {
        "id": "-esK-Lsh3eM9"
      }
    },
    {
      "cell_type": "code",
      "execution_count": 1,
      "metadata": {
        "colab": {
          "base_uri": "https://localhost:8080/"
        },
        "id": "rdtD9xQU2Q4F",
        "outputId": "c3535e01-96f8-416a-cd06-4b0492b69e2a"
      },
      "outputs": [
        {
          "output_type": "stream",
          "name": "stdout",
          "text": [
            "Sorted List (Strings first, then Integers):\n",
            "['Aman', 'Ram', 'Shyam', 1, 2, 3]\n"
          ]
        }
      ],
      "source": [
        "L = [\"Ram\", 1, \"Shyam\", 2, \"Aman\", 3]\n",
        "\n",
        "# Separate strings and integers\n",
        "strings = sorted([x for x in L if isinstance(x, str)])\n",
        "integers = sorted([x for x in L if isinstance(x, int)])\n",
        "\n",
        "# Combine them\n",
        "sorted_L = strings + integers\n",
        "\n",
        "print(\"Sorted List (Strings first, then Integers):\")\n",
        "print(sorted_L)\n"
      ]
    },
    {
      "cell_type": "markdown",
      "source": [
        "# 2: Convert All to Strings Before Sorting"
      ],
      "metadata": {
        "id": "FgMzZmPA3oy9"
      }
    },
    {
      "cell_type": "code",
      "source": [
        "L = [\"Ram\", 1, \"Shyam\", 2, \"Aman\", 3]\n",
        "\n",
        "# Sort by converting everything to string\n",
        "L_sorted = sorted(L, key=str)\n",
        "\n",
        "print(\"Sorted List (All elements as strings):\")\n",
        "print(L_sorted)\n"
      ],
      "metadata": {
        "colab": {
          "base_uri": "https://localhost:8080/"
        },
        "id": "iOiQ_Txb35p8",
        "outputId": "de442172-90ab-43fa-d7a6-78b75bd8aa09"
      },
      "execution_count": 2,
      "outputs": [
        {
          "output_type": "stream",
          "name": "stdout",
          "text": [
            "Sorted List (All elements as strings):\n",
            "[1, 2, 3, 'Aman', 'Ram', 'Shyam']\n"
          ]
        }
      ]
    }
  ]
}